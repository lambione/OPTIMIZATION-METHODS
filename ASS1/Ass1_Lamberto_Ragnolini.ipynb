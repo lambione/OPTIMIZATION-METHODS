{
 "cells": [
  {
   "cell_type": "markdown",
   "metadata": {},
   "source": [
    "__Assignment 1__"
   ]
  },
  {
   "cell_type": "code",
   "execution_count": 17,
   "metadata": {},
   "outputs": [],
   "source": [
    "import numpy as np"
   ]
  },
  {
   "cell_type": "code",
   "execution_count": 18,
   "metadata": {},
   "outputs": [],
   "source": [
    "b = np.array([-3,-8,7])"
   ]
  },
  {
   "cell_type": "code",
   "execution_count": 19,
   "metadata": {},
   "outputs": [
    {
     "name": "stdout",
     "output_type": "stream",
     "text": [
      "[[-10   3  11]\n",
      " [  3  -5  -4]\n",
      " [ 11  -4  -7]]\n"
     ]
    }
   ],
   "source": [
    "A = np.array([[-10,3,11],\n",
    "            [3,-5,-4],\n",
    "            [11,-4,-7]])\n",
    "print(A)"
   ]
  },
  {
   "cell_type": "markdown",
   "metadata": {},
   "source": [
    "__*Check Symmetry*__\n",
    "\n",
    "needs to satisfy the following : A=A^T"
   ]
  },
  {
   "cell_type": "markdown",
   "metadata": {},
   "source": [
    "In my opinion it is symetric"
   ]
  },
  {
   "cell_type": "code",
   "execution_count": 20,
   "metadata": {},
   "outputs": [],
   "source": [
    "def check_equality(A,AT):\n",
    "    return np.array_equal(A,AT)"
   ]
  },
  {
   "cell_type": "code",
   "execution_count": 21,
   "metadata": {},
   "outputs": [
    {
     "name": "stdout",
     "output_type": "stream",
     "text": [
      "Is matrix A symmetric? True\n"
     ]
    }
   ],
   "source": [
    "check = check_equality(A,A.T)\n",
    "print(f'Is matrix A symmetric? {check}')"
   ]
  },
  {
   "cell_type": "markdown",
   "metadata": {},
   "source": [
    "__*Solution to Ax=b*__\n"
   ]
  },
  {
   "cell_type": "markdown",
   "metadata": {},
   "source": [
    "*define a function that solves the system *"
   ]
  },
  {
   "cell_type": "code",
   "execution_count": 22,
   "metadata": {},
   "outputs": [],
   "source": [
    "def solve_linear_system(A,b):\n",
    "    x = np.linalg.solve(A,b)\n",
    "    return x"
   ]
  },
  {
   "cell_type": "code",
   "execution_count": 23,
   "metadata": {},
   "outputs": [
    {
     "name": "stdout",
     "output_type": "stream",
     "text": [
      "the solution of Ax=b is : [2. 2. 1.] \n"
     ]
    }
   ],
   "source": [
    "# call the function\n",
    "x = solve_linear_system(A,b)\n",
    "print(f\"the solution of Ax=b is : {x} \")"
   ]
  },
  {
   "cell_type": "markdown",
   "metadata": {},
   "source": [
    "__*Calculate r to check solution*__"
   ]
  },
  {
   "cell_type": "code",
   "execution_count": 24,
   "metadata": {},
   "outputs": [
    {
     "name": "stdout",
     "output_type": "stream",
     "text": [
      "r is effectively : [-3. -8.  7.]\n"
     ]
    }
   ],
   "source": [
    "r = np.dot(A,x)\n",
    "print(f\"r is effectively : {r}\")"
   ]
  },
  {
   "cell_type": "markdown",
   "metadata": {},
   "source": [
    "__*Print the difference of r and b *__"
   ]
  },
  {
   "cell_type": "markdown",
   "metadata": {},
   "source": [
    "The difference should be 0 because the solution to Ax=b returns the valuues of x for which Ax is equal to b so if we multiply A with x we retrieve r which effectively means : \n",
    "\n",
    "Ax = b = r = Ax ---> r-b = 0\n",
    "\n",
    "now when we deals with norms we try to seek the distance between vectors and in this case given that they are the same the distance is 0.\n",
    "\n",
    "We have to take into account that floating-point numbers normally introduce rounding errors which can result in numbers not exactly equal to 0 but close to it."
   ]
  },
  {
   "cell_type": "code",
   "execution_count": 25,
   "metadata": {},
   "outputs": [
    {
     "name": "stdout",
     "output_type": "stream",
     "text": [
      "the difference is 3.580361673049448e-15\n"
     ]
    }
   ],
   "source": [
    "diff = np.linalg.norm(r-b)\n",
    "print(f'the difference is {diff}')"
   ]
  },
  {
   "cell_type": "markdown",
   "metadata": {},
   "source": [
    "__*Print det of A*__"
   ]
  },
  {
   "cell_type": "code",
   "execution_count": 26,
   "metadata": {},
   "outputs": [
    {
     "name": "stdout",
     "output_type": "stream",
     "text": [
      "the determinant of A is : 214.0000000000001\n"
     ]
    }
   ],
   "source": [
    "det = np.linalg.det(A)\n",
    "print(f'the determinant of A is : {det}')"
   ]
  },
  {
   "cell_type": "code",
   "execution_count": 27,
   "metadata": {},
   "outputs": [
    {
     "name": "stdout",
     "output_type": "stream",
     "text": [
      "[[-1.0000e+00  3.0000e+03  1.0000e+00]\n",
      " [ 2.0000e+03 -1.5000e+00 -2.5000e+00]\n",
      " [-1.9990e+03 -2.9985e+03  1.5000e+00]]\n"
     ]
    }
   ],
   "source": [
    "A2 = np.array([[-1,3000,1],\n",
    "                [2000, -1.5, -2.5],\n",
    "                [-1999, -2998.5, 1.5]])\n",
    "print(A2)"
   ]
  },
  {
   "cell_type": "markdown",
   "metadata": {},
   "source": [
    "__*Check symmetry*__\n",
    "\n",
    "In my opinion it is not symmetric"
   ]
  },
  {
   "cell_type": "code",
   "execution_count": 28,
   "metadata": {},
   "outputs": [
    {
     "name": "stdout",
     "output_type": "stream",
     "text": [
      "Is matrix A symmetric? False\n"
     ]
    }
   ],
   "source": [
    "checkA2 = check_equality(A2,A2.T)\n",
    "print(f'Is matrix A symmetric? {checkA2}')"
   ]
  },
  {
   "cell_type": "markdown",
   "metadata": {},
   "source": [
    "__*Solve the system*__"
   ]
  },
  {
   "cell_type": "code",
   "execution_count": 29,
   "metadata": {},
   "outputs": [
    {
     "name": "stdout",
     "output_type": "stream",
     "text": [
      "the solution of Ax=b is : [ 2.25135002e+13 -5.99729500e+12  1.80143985e+16] \n"
     ]
    }
   ],
   "source": [
    "x2 = solve_linear_system(A2,b)\n",
    "print(f\"the solution of Ax=b is : {x2} \")"
   ]
  },
  {
   "cell_type": "markdown",
   "metadata": {},
   "source": [
    "__*Calculate r2 to check the solution*__"
   ]
  },
  {
   "cell_type": "code",
   "execution_count": 30,
   "metadata": {},
   "outputs": [
    {
     "name": "stdout",
     "output_type": "stream",
     "text": [
      "r is effectively : [-4. -8.  8.]\n"
     ]
    }
   ],
   "source": [
    "r2 = np.dot(A2,x2)\n",
    "print(f\"r is effectively : {r2}\")"
   ]
  },
  {
   "cell_type": "markdown",
   "metadata": {},
   "source": [
    "__*Print the difference of r2 and b*__"
   ]
  },
  {
   "cell_type": "markdown",
   "metadata": {},
   "source": [
    "The difference should be 0 because the solution to A2x2=b returns the valuues of x for which A2x2 is equal to b so if we multiply A2 with x we retrieve r2 which effectively means : \n",
    "\n",
    "A2x2 = b = r2 = A2x2 ---> r2-b = 0\n",
    "\n",
    "now when we deals with norms we try to seek the distance between vectors and in this case given that they are the same the distance is 0.\n",
    "\n",
    "The norm results in a very large number compared to the first matrix A due to numpy using numerical methods and not analytical ones. Given the fact that the matrix is close o be non-invertible given the determinant is very close to 0 it is very close to being singular. Due to this small floating-floating errors gets larger. This enlarges the result. The determinant of the first  is very large so the result of the norm is more precise"
   ]
  },
  {
   "cell_type": "code",
   "execution_count": 31,
   "metadata": {},
   "outputs": [
    {
     "name": "stdout",
     "output_type": "stream",
     "text": [
      "the difference is 1.4142135623730951\n"
     ]
    }
   ],
   "source": [
    "diffA2 = np.linalg.norm(r2-b)\n",
    "print(f'the difference is {diffA2}')"
   ]
  },
  {
   "cell_type": "markdown",
   "metadata": {},
   "source": [
    "__*Print det of A2*__"
   ]
  },
  {
   "cell_type": "code",
   "execution_count": 32,
   "metadata": {},
   "outputs": [
    {
     "name": "stdout",
     "output_type": "stream",
     "text": [
      "the determinant of A is : 1.3322672964832825e-09\n"
     ]
    }
   ],
   "source": [
    "detA2 = np.linalg.det(A2)\n",
    "print(f'the determinant of A is : {detA2}')"
   ]
  },
  {
   "cell_type": "markdown",
   "metadata": {},
   "source": [
    "determinant is very very close to 0 this means that is close to be non-invertible. Compared to the A, it is not symmetric so its transposed is not equal to itself."
   ]
  }
 ],
 "metadata": {
  "kernelspec": {
   "display_name": "assignment-07-spark-1iOGQZrB-py3.10",
   "language": "python",
   "name": "python3"
  },
  "language_info": {
   "codemirror_mode": {
    "name": "ipython",
    "version": 3
   },
   "file_extension": ".py",
   "mimetype": "text/x-python",
   "name": "python",
   "nbconvert_exporter": "python",
   "pygments_lexer": "ipython3",
   "version": "3.10.12"
  }
 },
 "nbformat": 4,
 "nbformat_minor": 2
}
