{
 "cells": [
  {
   "cell_type": "markdown",
   "id": "705fb220",
   "metadata": {},
   "source": [
    "# Problem 1"
   ]
  },
  {
   "cell_type": "markdown",
   "id": "0c20a6a4",
   "metadata": {},
   "source": [
    "## 1"
   ]
  },
  {
   "cell_type": "code",
   "execution_count": 2,
   "id": "4a7deb1a",
   "metadata": {},
   "outputs": [],
   "source": [
    "def is_c1_verified(x):\n",
    "    x1,x2 = x\n",
    "    c1 = x1 + x2 >= 3\n",
    "    return c1\n",
    "\n",
    "def is_c2_verified(x):\n",
    "    x1,x2 = x\n",
    "    c2 = x1 + 2*x2 <= 6\n",
    "    return c2\n",
    "\n",
    "def is_c3_verified(x):\n",
    "    x1,x2 = x\n",
    "    c3 = x1 >= 1\n",
    "    return c3\n",
    "\n",
    "def is_c4_verified(x):\n",
    "    x1,x2 = x\n",
    "    c4 = x2 >= 1\n",
    "    return c4\n"
   ]
  },
  {
   "cell_type": "markdown",
   "id": "ea60643e",
   "metadata": {},
   "source": [
    "## 2"
   ]
  },
  {
   "cell_type": "code",
   "execution_count": 3,
   "id": "c25e1cbd",
   "metadata": {},
   "outputs": [],
   "source": [
    "def is_feasible(x):\n",
    "    c1 = is_c1_verified(x)\n",
    "    c2 = is_c2_verified(x)\n",
    "    c3 = is_c3_verified(x)\n",
    "    c4 = is_c4_verified(x)\n",
    "    return c1 and c2 and c3 and c4"
   ]
  },
  {
   "cell_type": "markdown",
   "id": "ef396f8f",
   "metadata": {},
   "source": [
    "## 3"
   ]
  },
  {
   "cell_type": "code",
   "execution_count": 4,
   "id": "c282fafc",
   "metadata": {},
   "outputs": [
    {
     "name": "stdout",
     "output_type": "stream",
     "text": [
      "Is point x0 a feasible point? True\n",
      "Is point x1 a feasible point? True\n"
     ]
    }
   ],
   "source": [
    "x0 = (1,2)\n",
    "x1 = (3,1.2)\n",
    "\n",
    "feasibility_x0 = is_feasible(x0)\n",
    "feasibility_x1 = is_feasible(x1)\n",
    "\n",
    "print(f'Is point x0 a feasible point? {feasibility_x0}')\n",
    "print(f'Is point x1 a feasible point? {feasibility_x1}')"
   ]
  },
  {
   "cell_type": "markdown",
   "id": "c8a03863",
   "metadata": {},
   "source": [
    "## 4"
   ]
  },
  {
   "cell_type": "code",
   "execution_count": 5,
   "id": "f5ca1c62",
   "metadata": {},
   "outputs": [],
   "source": [
    "def is_c1_active(x):\n",
    "    x1,x2 = x\n",
    "    c1 = x1 + x2 == 3\n",
    "    return c1\n",
    "\n",
    "def is_c2_active(x):\n",
    "    x1,x2 = x\n",
    "    c2 = x1 + 2*x2 == 6\n",
    "    return c2\n",
    "\n",
    "def is_c3_active(x):\n",
    "    x1,x2 = x\n",
    "    c3 = x1 == 1\n",
    "    return c3\n",
    "\n",
    "def is_c4_active(x):\n",
    "    x1,x2 = x\n",
    "    c3 = x1 == 1\n",
    "    return c3"
   ]
  },
  {
   "cell_type": "code",
   "execution_count": null,
   "id": "e810e0ce",
   "metadata": {},
   "outputs": [
    {
     "ename": "TypeError",
     "evalue": "cannot unpack non-iterable int object",
     "output_type": "error",
     "traceback": [
      "\u001b[0;31m---------------------------------------------------------------------------\u001b[0m",
      "\u001b[0;31mTypeError\u001b[0m                                 Traceback (most recent call last)",
      "Cell \u001b[0;32mIn[6], line 8\u001b[0m\n\u001b[1;32m      4\u001b[0m points \u001b[38;5;241m=\u001b[39m [x0,x1]\n\u001b[1;32m      6\u001b[0m \u001b[38;5;28;01mfor\u001b[39;00m point,i \u001b[38;5;129;01min\u001b[39;00m \u001b[38;5;28menumerate\u001b[39m(points):\n\u001b[0;32m----> 8\u001b[0m     active_c1 \u001b[38;5;241m=\u001b[39m \u001b[43mis_c1_active\u001b[49m\u001b[43m(\u001b[49m\u001b[43mpoint\u001b[49m\u001b[43m)\u001b[49m\n\u001b[1;32m      9\u001b[0m     active_c2 \u001b[38;5;241m=\u001b[39m is_c2_active(point)\n\u001b[1;32m     10\u001b[0m     active_c3 \u001b[38;5;241m=\u001b[39m is_c3_active(point)\n",
      "Cell \u001b[0;32mIn[5], line 2\u001b[0m, in \u001b[0;36mis_c1_active\u001b[0;34m(x)\u001b[0m\n\u001b[1;32m      1\u001b[0m \u001b[38;5;28;01mdef\u001b[39;00m \u001b[38;5;21mis_c1_active\u001b[39m(x):\n\u001b[0;32m----> 2\u001b[0m     x1,x2 \u001b[38;5;241m=\u001b[39m x\n\u001b[1;32m      3\u001b[0m     c1 \u001b[38;5;241m=\u001b[39m x1 \u001b[38;5;241m+\u001b[39m x2 \u001b[38;5;241m==\u001b[39m \u001b[38;5;241m3\u001b[39m\n\u001b[1;32m      4\u001b[0m     \u001b[38;5;28;01mreturn\u001b[39;00m c1\n",
      "\u001b[0;31mTypeError\u001b[0m: cannot unpack non-iterable int object"
     ]
    }
   ],
   "source": [
    "x0 = (1,2)\n",
    "x1 = (3,1.2)\n",
    "\n",
    "points = [x0,x1]\n",
    "\n",
    "for i,point in enumerate(points):\n",
    "\n",
    "    active_c1 = is_c1_active(point)\n",
    "    active_c2 = is_c2_active(point)\n",
    "    active_c3 = is_c3_active(point)\n",
    "    active_c4 = is_c4_active(point)\n",
    "\n",
    "    print(f'Is constraint C1 active for point X{i}? {active_c1}')\n",
    "    print(f'Is constraint C2 active for point X{i}? {active_c2}')\n",
    "    print(f'Is constraint C3 active for point X{i}? {active_c3}')\n",
    "    print(f'Is constraint C4 active for point X{i}? {active_c4}')\n"
   ]
  },
  {
   "cell_type": "code",
   "execution_count": null,
   "id": "22464150",
   "metadata": {},
   "outputs": [],
   "source": []
  }
 ],
 "metadata": {
  "kernelspec": {
   "display_name": "Python 3",
   "language": "python",
   "name": "python3"
  },
  "language_info": {
   "codemirror_mode": {
    "name": "ipython",
    "version": 3
   },
   "file_extension": ".py",
   "mimetype": "text/x-python",
   "name": "python",
   "nbconvert_exporter": "python",
   "pygments_lexer": "ipython3",
   "version": "3.10.12"
  }
 },
 "nbformat": 4,
 "nbformat_minor": 5
}
