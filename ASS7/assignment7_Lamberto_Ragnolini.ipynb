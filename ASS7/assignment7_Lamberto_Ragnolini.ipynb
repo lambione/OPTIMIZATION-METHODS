{
 "cells": [
  {
   "cell_type": "markdown",
   "id": "d16e32ee",
   "metadata": {},
   "source": [
    "# __ASSIGNMENT 7__"
   ]
  },
  {
   "cell_type": "markdown",
   "id": "358a9a77",
   "metadata": {},
   "source": [
    "## IMPORT LIBRARIES"
   ]
  },
  {
   "cell_type": "code",
   "execution_count": 1,
   "id": "c3a69290",
   "metadata": {},
   "outputs": [],
   "source": [
    "import matplotlib.pyplot as plt\n",
    "import numpy as np\n",
    "from itertools import combinations"
   ]
  },
  {
   "cell_type": "markdown",
   "id": "b55d3a80",
   "metadata": {},
   "source": [
    "## Problem 1"
   ]
  },
  {
   "cell_type": "markdown",
   "id": "d273b435",
   "metadata": {},
   "source": [
    "### 1."
   ]
  },
  {
   "cell_type": "code",
   "execution_count": 21,
   "id": "0e2cf7aa",
   "metadata": {},
   "outputs": [
    {
     "data": {
      "image/png": "[encoded data removed]",
      "text/plain": [
       "<Figure size 600x600 with 1 Axes>"
      ]
     },
     "metadata": {},
     "output_type": "display_data"
    }
   ],
   "source": [
    "x = np.linspace(0, 2, 200)\n",
    "y1 = 1 - x   \n",
    "y2 = 2 - x  \n",
    "\n",
    "# NOTE: labeling as the teacher suggestion by refactored \n",
    "plt.figure(figsize=(6, 6))\n",
    "plt.plot(x, y1, label=r'$x_1 + x_2 = 1$', color='blue')\n",
    "plt.plot(x, y2, label=r'$x_1 + x_2 = 2$', color='green')\n",
    "\n",
    "# NOTE: it took me long to understand all this cool functionalities \n",
    "x_fill = np.linspace(0, 2, 200)\n",
    "y_fill_upper = np.minimum(2 - x_fill, np.full_like(x_fill, 2))\n",
    "y_fill_lower = np.maximum(1 - x_fill, np.zeros_like(x_fill))\n",
    "plt.fill_between(x_fill, y_fill_lower, y_fill_upper, where=y_fill_upper > y_fill_lower, color='lightgray', label='Feasible Region')\n",
    "\n",
    "plt.xlim(-1, 4)\n",
    "plt.ylim(-1, 4)\n",
    "plt.xlabel(r'$x_1$')\n",
    "plt.ylabel(r'$x_2$')\n",
    "plt.title('Feasible Region $P$')\n",
    "plt.grid(True)\n",
    "plt.legend()\n",
    "plt.gca().set_aspect('equal', adjustable='box')\n",
    "plt.show()\n"
   ]
  },
  {
   "cell_type": "markdown",
   "id": "94aabc19",
   "metadata": {},
   "source": [
    "### 2."
   ]
  },
  {
   "cell_type": "code",
   "execution_count": 22,
   "id": "6c507496",
   "metadata": {},
   "outputs": [
    {
     "name": "stdout",
     "output_type": "stream",
     "text": [
      "A = [[ 1  1 -1  0]\n",
      " [ 1  1  0  1]]\n",
      "b = [1 2]\n",
      "Number of constraints (m - as said in assignment): 2\n"
     ]
    }
   ],
   "source": [
    "A = np.array([\n",
    "    [1, 1, -1,  0],  \n",
    "    [1, 1,  0,  1]  \n",
    "])\n",
    "\n",
    "b = np.array([1, 2])\n",
    "\n",
    "print(\"A =\", A)\n",
    "print(\"b =\", b)\n",
    "\n",
    "m = A.shape[0]\n",
    "print(\"Number of constraints (m - as said in assignment):\", m)"
   ]
  },
  {
   "cell_type": "markdown",
   "id": "6bf6bac5",
   "metadata": {},
   "source": [
    "### 3."
   ]
  },
  {
   "cell_type": "code",
   "execution_count": 23,
   "id": "f197def8",
   "metadata": {},
   "outputs": [
    {
     "name": "stdout",
     "output_type": "stream",
     "text": [
      "Basis matrix called B1: [[-1  0]\n",
      " [ 0  1]]\n"
     ]
    }
   ],
   "source": [
    "def extract_basis_matrix(A, basic_indices):\n",
    "    return A[:, basic_indices]\n",
    "\n",
    "indices = [2, 3]  \n",
    "B1 = extract_basis_matrix(A, indices)\n",
    "\n",
    "print(\"Basis matrix called B1:\", B1)"
   ]
  },
  {
   "cell_type": "markdown",
   "id": "6267069c",
   "metadata": {},
   "source": [
    "### 4"
   ]
  },
  {
   "cell_type": "code",
   "execution_count": 24,
   "id": "3acb9b72",
   "metadata": {},
   "outputs": [
    {
     "name": "stdout",
     "output_type": "stream",
     "text": [
      "Basis matrix B1:\n",
      " [[-1  0]\n",
      " [ 0  1]]\n",
      "Basic variable solution xB1:\n",
      " [-1.  2.]\n"
     ]
    }
   ],
   "source": [
    "def basic_variables(B, b):\n",
    "\n",
    "    det = np.linalg.det(B)\n",
    "    if abs(det) < 1e-10:\n",
    "        return None\n",
    "    \n",
    "    xB = np.linalg.solve(B, b)\n",
    "    return xB\n",
    "\n",
    "xB1 = basic_variables(B1, b)\n",
    "\n",
    "if xB1 is None :\n",
    "    print(\"Matrix is singular\")\n",
    "else :\n",
    "    print(\"Basis matrix B1:\\n\", B1)\n",
    "    print(\"Basic variable solution xB1:\\n\", xB1)\n"
   ]
  },
  {
   "cell_type": "markdown",
   "id": "84399ddb",
   "metadata": {},
   "source": [
    "### 5."
   ]
  },
  {
   "cell_type": "code",
   "execution_count": 25,
   "id": "e3e3d762",
   "metadata": {},
   "outputs": [
    {
     "name": "stdout",
     "output_type": "stream",
     "text": [
      "the used xB1 = [-1.  2.]\n",
      "is it Feasible? False\n",
      "is it Degenerate? False\n"
     ]
    }
   ],
   "source": [
    "def is_feasible(xB):\n",
    "    return np.all(xB >= 0)\n",
    "\n",
    "def is_degenerate(xB):\n",
    "    return np.any(xB == 0)\n",
    "\n",
    "xB1 = np.array([-1., 2.])  \n",
    "\n",
    "print(\"the used xB1 =\", xB1)\n",
    "print(\"is it Feasible?\", is_feasible(xB1))\n",
    "print(\"is it Degenerate?\", is_degenerate(xB1)) "
   ]
  },
  {
   "cell_type": "markdown",
   "id": "cd55554e",
   "metadata": {},
   "source": [
    "### 6"
   ]
  },
  {
   "cell_type": "code",
   "execution_count": 26,
   "id": "013ca4b3",
   "metadata": {},
   "outputs": [
    {
     "name": "stdout",
     "output_type": "stream",
     "text": [
      "Full basic solution x:\n",
      " [ 0.  0. -1.  2.]\n"
     ]
    }
   ],
   "source": [
    "def full_basic_solution(n, xB, indices):\n",
    "    x = np.zeros(n)\n",
    "    for i, idx in enumerate(indices):\n",
    "        x[idx] = xB[i]\n",
    "    return x\n",
    "\n",
    "n = 4\n",
    "full = full_basic_solution(n, xB1, indices)\n",
    "\n",
    "print(\"Full basic solution x:\\n\", full)"
   ]
  },
  {
   "cell_type": "markdown",
   "id": "fb8753da",
   "metadata": {},
   "source": [
    "### 7."
   ]
  },
  {
   "cell_type": "code",
   "execution_count": null,
   "id": "c8a34ed4",
   "metadata": {},
   "outputs": [],
   "source": [
    "def construct_basic_solution(A, b, basic_indices):\n",
    "    B = extract_basis_matrix(A, basic_indices)\n",
    "    xB = basic_variables(B, b)\n",
    "    \n",
    "    if xB is None:\n",
    "        return None, False, False  # Singular matrix case\n",
    "    \n",
    "    x = full_basic_solution(A.shape[1], xB, basic_indices)\n",
    "    is_feas = is_feasible(xB)\n",
    "    is_degen = is_degenerate(xB)\n",
    "    \n",
    "    return x, is_feas, is_degen"
   ]
  },
  {
   "cell_type": "markdown",
   "id": "12794029",
   "metadata": {},
   "source": [
    "### 8."
   ]
  },
  {
   "cell_type": "code",
   "execution_count": null,
   "id": "81b72b40",
   "metadata": {},
   "outputs": [],
   "source": [
    "m, n = A.shape\n",
    "all_indices = list(range(n))\n",
    "\n",
    "feasible_count = 0\n",
    "degenerate_count = 0\n",
    "\n",
    "print(\"All basic solutions:\")\n",
    "for basic_indices in combinations(all_indices, m):\n",
    "    x, is_feas, is_degen = construct_basic_solution(A, b, list(basic_indices))\n",
    "    \n",
    "    print(f\"Basic indices: {basic_indices}\")\n",
    "    if x is None:\n",
    "        print(\"  -> Singular matrix, no solution\\n\")\n",
    "    else:\n",
    "        print(f\"  -> Solution x: {x}\")\n",
    "        print(f\"     Feasible? {is_feas}\")\n",
    "        print(f\"     Degenerate? {is_degen}\\n\")\n",
    "        \n",
    "        if is_feas:\n",
    "            feasible_count += 1\n",
    "        if is_degen and is_feas:\n",
    "            degenerate_count += 1\n",
    "\n",
    "print(\"Summary:\")\n",
    "print(f\"Total basic feasible solutions: {feasible_count}\")\n",
    "print(f\"Degenerate basic feasible solutions: {degenerate_count}\")"
   ]
  },
  {
   "cell_type": "markdown",
   "id": "13e1efcf",
   "metadata": {},
   "source": [
    "### 9."
   ]
  },
  {
   "cell_type": "code",
   "execution_count": null,
   "id": "91fbfca2",
   "metadata": {},
   "outputs": [],
   "source": [
    "def reduced_costs(A, c, basic_indices):\n",
    "    n = A.shape[1]\n",
    "    B = A[:, basic_indices]\n",
    "    try:\n",
    "        B_inv = np.linalg.inv(B)\n",
    "    except np.linalg.LinAlgError:\n",
    "        return None, False  # B is singular\n",
    "\n",
    "    c_B = c[basic_indices]\n",
    "    c_bar = np.zeros(n)\n",
    "\n",
    "    for j in range(n):\n",
    "        A_j = A[:, j]\n",
    "        c_bar[j] = c[j] - c_B @ B_inv @ A_j\n",
    "\n",
    "    is_optimal = np.all(c_bar >= -1e-10)  # numerical stability with tolerance\n",
    "    return c_bar, is_optimal\n",
    "\n",
    "# --- Example data ---\n",
    "A = np.array([\n",
    "    [1, 1, -1, 0],\n",
    "    [1, 1, 0, 1]\n",
    "])\n",
    "c = np.array([1, 1, 0, 0])\n",
    "basic_indices = [0, 3]\n",
    "\n",
    "# --- Test ---\n",
    "c_bar, is_optimal = reduced_costs(A, c, basic_indices)\n",
    "\n",
    "print(\"Reduced costs vector:\", c_bar)\n",
    "print(\"Is optimal? (all reduced costs ≥ 0):\", is_optimal)"
   ]
  },
  {
   "cell_type": "markdown",
   "id": "9e7ac1a1",
   "metadata": {},
   "source": [
    "### 10."
   ]
  },
  {
   "cell_type": "markdown",
   "id": "def6c3e2",
   "metadata": {},
   "source": []
  }
 ],
 "metadata": {
  "kernelspec": {
   "display_name": "Python 3",
   "language": "python",
   "name": "python3"
  },
  "language_info": {
   "codemirror_mode": {
    "name": "ipython",
    "version": 3
   },
   "file_extension": ".py",
   "mimetype": "text/x-python",
   "name": "python",
   "nbconvert_exporter": "python",
   "pygments_lexer": "ipython3",
   "version": "3.10.12"
  }
 },
 "nbformat": 4,
 "nbformat_minor": 5
}
