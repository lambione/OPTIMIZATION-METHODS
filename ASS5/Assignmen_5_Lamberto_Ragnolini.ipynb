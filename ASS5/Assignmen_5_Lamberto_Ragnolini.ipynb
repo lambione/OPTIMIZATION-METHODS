{
 "cells": [
  {
   "cell_type": "markdown",
   "id": "ce2c8a2c",
   "metadata": {},
   "source": [
    "# __ASSIGNMENT 5__"
   ]
  },
  {
   "cell_type": "markdown",
   "id": "11f91b9b",
   "metadata": {},
   "source": [
    "## __IMPORT LIBRARIES__"
   ]
  },
  {
   "cell_type": "code",
   "execution_count": 18,
   "id": "189c2dc5",
   "metadata": {},
   "outputs": [],
   "source": [
    "import pandas as pd\n",
    "import numpy as np\n"
   ]
  },
  {
   "cell_type": "markdown",
   "id": "6635fce5",
   "metadata": {},
   "source": [
    "## __1.__"
   ]
  },
  {
   "cell_type": "code",
   "execution_count": 19,
   "id": "66d453b8",
   "metadata": {},
   "outputs": [
    {
     "data": {
      "text/html": [
       "<div>\n",
       "<style scoped>\n",
       "    .dataframe tbody tr th:only-of-type {\n",
       "        vertical-align: middle;\n",
       "    }\n",
       "\n",
       "    .dataframe tbody tr th {\n",
       "        vertical-align: top;\n",
       "    }\n",
       "\n",
       "    .dataframe thead th {\n",
       "        text-align: right;\n",
       "    }\n",
       "</style>\n",
       "<table border=\"1\" class=\"dataframe\">\n",
       "  <thead>\n",
       "    <tr style=\"text-align: right;\">\n",
       "      <th></th>\n",
       "      <th>Gender</th>\n",
       "      <th>Height</th>\n",
       "      <th>Weight</th>\n",
       "    </tr>\n",
       "  </thead>\n",
       "  <tbody>\n",
       "    <tr>\n",
       "      <th>0</th>\n",
       "      <td>Male</td>\n",
       "      <td>73.847017</td>\n",
       "      <td>241.893563</td>\n",
       "    </tr>\n",
       "    <tr>\n",
       "      <th>1</th>\n",
       "      <td>Male</td>\n",
       "      <td>68.781904</td>\n",
       "      <td>162.310473</td>\n",
       "    </tr>\n",
       "    <tr>\n",
       "      <th>2</th>\n",
       "      <td>Male</td>\n",
       "      <td>74.110105</td>\n",
       "      <td>212.740856</td>\n",
       "    </tr>\n",
       "    <tr>\n",
       "      <th>3</th>\n",
       "      <td>Male</td>\n",
       "      <td>71.730978</td>\n",
       "      <td>220.042470</td>\n",
       "    </tr>\n",
       "    <tr>\n",
       "      <th>4</th>\n",
       "      <td>Male</td>\n",
       "      <td>69.881796</td>\n",
       "      <td>206.349801</td>\n",
       "    </tr>\n",
       "  </tbody>\n",
       "</table>\n",
       "</div>"
      ],
      "text/plain": [
       "  Gender     Height      Weight\n",
       "0   Male  73.847017  241.893563\n",
       "1   Male  68.781904  162.310473\n",
       "2   Male  74.110105  212.740856\n",
       "3   Male  71.730978  220.042470\n",
       "4   Male  69.881796  206.349801"
      ]
     },
     "execution_count": 19,
     "metadata": {},
     "output_type": "execute_result"
    }
   ],
   "source": [
    "data = pd.read_csv('height_weight_genders.csv')\n",
    "data.head()"
   ]
  },
  {
   "cell_type": "code",
   "execution_count": 20,
   "id": "8edc4b51",
   "metadata": {},
   "outputs": [
    {
     "data": {
      "text/html": [
       "<div>\n",
       "<style scoped>\n",
       "    .dataframe tbody tr th:only-of-type {\n",
       "        vertical-align: middle;\n",
       "    }\n",
       "\n",
       "    .dataframe tbody tr th {\n",
       "        vertical-align: top;\n",
       "    }\n",
       "\n",
       "    .dataframe thead th {\n",
       "        text-align: right;\n",
       "    }\n",
       "</style>\n",
       "<table border=\"1\" class=\"dataframe\">\n",
       "  <thead>\n",
       "    <tr style=\"text-align: right;\">\n",
       "      <th></th>\n",
       "      <th>Gender</th>\n",
       "      <th>Height</th>\n",
       "      <th>Weight</th>\n",
       "    </tr>\n",
       "  </thead>\n",
       "  <tbody>\n",
       "    <tr>\n",
       "      <th>0</th>\n",
       "      <td>0</td>\n",
       "      <td>73.847017</td>\n",
       "      <td>241.893563</td>\n",
       "    </tr>\n",
       "    <tr>\n",
       "      <th>1</th>\n",
       "      <td>0</td>\n",
       "      <td>68.781904</td>\n",
       "      <td>162.310473</td>\n",
       "    </tr>\n",
       "    <tr>\n",
       "      <th>2</th>\n",
       "      <td>0</td>\n",
       "      <td>74.110105</td>\n",
       "      <td>212.740856</td>\n",
       "    </tr>\n",
       "    <tr>\n",
       "      <th>3</th>\n",
       "      <td>0</td>\n",
       "      <td>71.730978</td>\n",
       "      <td>220.042470</td>\n",
       "    </tr>\n",
       "    <tr>\n",
       "      <th>4</th>\n",
       "      <td>0</td>\n",
       "      <td>69.881796</td>\n",
       "      <td>206.349801</td>\n",
       "    </tr>\n",
       "  </tbody>\n",
       "</table>\n",
       "</div>"
      ],
      "text/plain": [
       "   Gender     Height      Weight\n",
       "0       0  73.847017  241.893563\n",
       "1       0  68.781904  162.310473\n",
       "2       0  74.110105  212.740856\n",
       "3       0  71.730978  220.042470\n",
       "4       0  69.881796  206.349801"
      ]
     },
     "execution_count": 20,
     "metadata": {},
     "output_type": "execute_result"
    }
   ],
   "source": [
    "def replace_gender(g):\n",
    "    if g == \"Male\": \n",
    "        return 0\n",
    "    else:\n",
    "        return 1\n",
    "\n",
    "data[\"Gender\"] = data[\"Gender\"].apply(replace_gender) \n",
    "data.head()\n",
    "        "
   ]
  },
  {
   "cell_type": "code",
   "execution_count": 21,
   "id": "5d1aaf33",
   "metadata": {},
   "outputs": [],
   "source": [
    "data = np.array([data[\"Gender\"],data[\"Height\"], data[\"Weight\"]]).T"
   ]
  },
  {
   "cell_type": "code",
   "execution_count": 22,
   "id": "72467ea6",
   "metadata": {},
   "outputs": [
    {
     "name": "stdout",
     "output_type": "stream",
     "text": [
      "(10000, 3)\n"
     ]
    }
   ],
   "source": [
    "print(data.shape)"
   ]
  },
  {
   "cell_type": "markdown",
   "id": "697ec64b",
   "metadata": {},
   "source": [
    "## __2.__"
   ]
  },
  {
   "cell_type": "code",
   "execution_count": null,
   "id": "8c3aa497",
   "metadata": {},
   "outputs": [
    {
     "name": "stdout",
     "output_type": "stream",
     "text": [
      "[ 1.94406149  0.62753668  2.01244346 ... -0.64968792  0.69312469\n",
      " -1.14970831]\n"
     ]
    }
   ],
   "source": [
    "# NOTE: use vectorized operationsssss !!!!!!\n",
    "h = data[:, 1]\n",
    "\n",
    "mn = np.mean(h)\n",
    "std_dev = np.std(h)\n",
    "\n",
    "data[:, 1] = (data[:, 1] - mn) / std_dev\n",
    "\n",
    "print(data[:, 1])"
   ]
  },
  {
   "cell_type": "markdown",
   "id": "f158b7d4",
   "metadata": {},
   "source": [
    "## __3.__"
   ]
  },
  {
   "cell_type": "code",
   "execution_count": 32,
   "id": "21443503",
   "metadata": {},
   "outputs": [
    {
     "name": "stdout",
     "output_type": "stream",
     "text": [
      "(1, 10000, 2)\n",
      "(10000, 1)\n"
     ]
    }
   ],
   "source": [
    "Z = np.array([np.ones((data.shape[0],1)), data[:, 1].reshape(-1,1)]).T\n",
    "Y = data[:, 2].reshape(-1,1)\n",
    "print(Z.shape)\n",
    "print(Y.shape)"
   ]
  },
  {
   "cell_type": "markdown",
   "id": "71c817a3",
   "metadata": {},
   "source": [
    "## __4.__"
   ]
  },
  {
   "cell_type": "code",
   "execution_count": null,
   "id": "ce61f4fe",
   "metadata": {},
   "outputs": [],
   "source": [
    "# NOTE: MEAN SQUARED ERROR \n",
    "def objective(y,Z,x):\n",
    "    return (1/(2*y.shape[0])) * np.sum((y - Z @ x)**2)"
   ]
  },
  {
   "cell_type": "markdown",
   "id": "39ced518",
   "metadata": {},
   "source": [
    "## __5.__"
   ]
  },
  {
   "cell_type": "code",
   "execution_count": 34,
   "id": "1ddfe206",
   "metadata": {},
   "outputs": [],
   "source": [
    "def gradient(y,Z,x):\n",
    "    return 1/y.shape[0] * Z.T (Z*(x) - y) "
   ]
  },
  {
   "cell_type": "markdown",
   "id": "d34ab139",
   "metadata": {},
   "source": [
    "## __6.__"
   ]
  },
  {
   "cell_type": "code",
   "execution_count": null,
   "id": "189a8c09",
   "metadata": {},
   "outputs": [],
   "source": []
  }
 ],
 "metadata": {
  "kernelspec": {
   "display_name": "fmu_env",
   "language": "python",
   "name": "python3"
  },
  "language_info": {
   "codemirror_mode": {
    "name": "ipython",
    "version": 3
   },
   "file_extension": ".py",
   "mimetype": "text/x-python",
   "name": "python",
   "nbconvert_exporter": "python",
   "pygments_lexer": "ipython3",
   "version": "3.9.21"
  }
 },
 "nbformat": 4,
 "nbformat_minor": 5
}
