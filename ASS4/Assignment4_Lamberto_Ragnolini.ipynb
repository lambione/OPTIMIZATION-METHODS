{
 "cells": [
  {
   "cell_type": "markdown",
   "metadata": {},
   "source": [
    "# ASSIGNMENT 4"
   ]
  },
  {
   "cell_type": "markdown",
   "metadata": {},
   "source": [
    "## import libraries"
   ]
  },
  {
   "cell_type": "code",
   "execution_count": 54,
   "metadata": {},
   "outputs": [],
   "source": [
    "import numpy as np\n",
    "import matplotlib.pyplot as plt"
   ]
  },
  {
   "cell_type": "markdown",
   "metadata": {},
   "source": [
    "## PROBLEMS 1"
   ]
  },
  {
   "cell_type": "markdown",
   "metadata": {},
   "source": [
    "### ex1"
   ]
  },
  {
   "cell_type": "code",
   "execution_count": 55,
   "metadata": {},
   "outputs": [],
   "source": [
    "def function(x):\n",
    "    x1,x2 = x\n",
    "    return (x1**2) + 2*(x2**2)"
   ]
  },
  {
   "cell_type": "markdown",
   "metadata": {},
   "source": [
    "### ex2"
   ]
  },
  {
   "cell_type": "code",
   "execution_count": 56,
   "metadata": {},
   "outputs": [],
   "source": [
    "def gradient(x):\n",
    "    x1,x2 = x\n",
    "    df_x1 = 2*x1\n",
    "    df_x2 = 4*x2\n",
    "    return np.array([df_x1,df_x2])"
   ]
  },
  {
   "cell_type": "markdown",
   "metadata": {},
   "source": [
    "### ex3"
   ]
  },
  {
   "cell_type": "code",
   "execution_count": 57,
   "metadata": {},
   "outputs": [
    {
     "name": "stdout",
     "output_type": "stream",
     "text": [
      "function at x0 = (9,1) : 83\n",
      " at x0 = (9,1) : [18  4]\n"
     ]
    }
   ],
   "source": [
    "x0 = [9,1]\n",
    "f = function(x0)\n",
    "g = gradient(x0)\n",
    "\n",
    "print(f'function at x0 = (9,1) : {f}')\n",
    "print(f' at x0 = (9,1) : {g}')"
   ]
  },
  {
   "cell_type": "markdown",
   "metadata": {},
   "source": [
    "### ex4"
   ]
  },
  {
   "cell_type": "code",
   "execution_count": 58,
   "metadata": {},
   "outputs": [],
   "source": [
    "def compute_update(xk,alpha,d):\n",
    "    return xk + alpha*d \n",
    "\n",
    "def wolfe_1(function,gradient,x,alpha,d,n):\n",
    "    return function(compute_update(x,alpha,d)) <= function(x) + n*alpha * np.dot(gradient(x).T,d)\n",
    "\n",
    "def wolfe_2(gradient,x,alpha,d,n_bar):\n",
    "    return np.dot(gradient(compute_update(x,alpha,d)).T,d) >= n_bar*np.dot(gradient(x).T,d)\n",
    "\n",
    "def wolfe_conditions(function,gradient,x,d,alpha,n,n_bar):\n",
    "    return (wolfe_1(function,gradient,x,alpha,d,n),wolfe_2(gradient,x,alpha,d,n_bar))\n",
    "    "
   ]
  },
  {
   "cell_type": "markdown",
   "metadata": {},
   "source": [
    "### ex5"
   ]
  },
  {
   "cell_type": "code",
   "execution_count": 59,
   "metadata": {},
   "outputs": [
    {
     "data": {
      "text/plain": [
       "(True, False)"
      ]
     },
     "execution_count": 59,
     "metadata": {},
     "output_type": "execute_result"
    }
   ],
   "source": [
    "x0 = np.array([9,1])\n",
    "d = -gradient(x0)\n",
    "alpha = 0.05\n",
    "n = 0.01\n",
    "n_bar = 0.8\n",
    "wolfe_conditions(function,gradient,x0,d,alpha,n,n_bar)"
   ]
  },
  {
   "cell_type": "markdown",
   "metadata": {},
   "source": [
    "### ex6"
   ]
  },
  {
   "cell_type": "code",
   "execution_count": 60,
   "metadata": {},
   "outputs": [],
   "source": [
    "def backtracking(function,gradient,x,d,alpha,n):\n",
    "    while not wolfe_1(function,gradient,x,alpha,d,n):\n",
    "        alpha *= 0.5\n",
    "    new_x = compute_update(x, alpha,d)\n",
    "    return alpha,new_x"
   ]
  },
  {
   "cell_type": "markdown",
   "metadata": {},
   "source": [
    "### ex7"
   ]
  },
  {
   "cell_type": "code",
   "execution_count": 61,
   "metadata": {},
   "outputs": [
    {
     "data": {
      "text/plain": [
       "(0.625, array([-2.25, -1.5 ]))"
      ]
     },
     "execution_count": 61,
     "metadata": {},
     "output_type": "execute_result"
    }
   ],
   "source": [
    "x0 = np.array([9,1])\n",
    "d = -gradient(x0)\n",
    "alpha = 10\n",
    "n = 0.01\n",
    "backtracking(function,gradient,x0,d,alpha,n)"
   ]
  },
  {
   "cell_type": "markdown",
   "metadata": {},
   "source": [
    "## PROBLEMS 2"
   ]
  },
  {
   "cell_type": "code",
   "execution_count": 62,
   "metadata": {},
   "outputs": [],
   "source": [
    "def f(x):\n",
    "    x1,x2 = x\n",
    "    return x1**3 - x1 + x2**3 - x2\n",
    "\n",
    "def gradient_f(x):\n",
    "    x1,x2 = x\n",
    "    df_x1 = 3*(x1**2) - 1\n",
    "    df_x2 = 3*(x2**2) - 1\n",
    "    return np.array([df_x1,df_x2])\n",
    "\n",
    "def hessian_f(x):\n",
    "    x1,x2 = x\n",
    "    d2f_x1 = 6*x1\n",
    "    d2f_x2 = 6*x2\n",
    "    d2f_x1x2 = 0\n",
    "    d2f_x2x1 = 0\n",
    "    return np.array([[d2f_x1, d2f_x1x2],[d2f_x2x1, d2f_x2]])"
   ]
  },
  {
   "cell_type": "markdown",
   "metadata": {},
   "source": [
    "### GRADIENT DESCENT"
   ]
  },
  {
   "cell_type": "code",
   "execution_count": 63,
   "metadata": {},
   "outputs": [],
   "source": [
    "def gradient_descent(x0, alpha=0.1, tol=1e-6, max_iters=1000):\n",
    "    x = np.array(x0, dtype=float)\n",
    "    iter = 0\n",
    "    for k in range(max_iters):\n",
    "        grad = gradient_f(x)\n",
    "        norm_grad = np.linalg.norm(grad)\n",
    "        iter += 1\n",
    "        # NOTE : check if slope is almost flat\n",
    "        if norm_grad < tol:\n",
    "            break\n",
    "        \n",
    "        x -= alpha * grad\n",
    "    return x,iter"
   ]
  },
  {
   "cell_type": "markdown",
   "metadata": {},
   "source": [
    "### GRADIENT DESCENT BACKTRACKING"
   ]
  },
  {
   "cell_type": "code",
   "execution_count": 64,
   "metadata": {},
   "outputs": [],
   "source": [
    "def gradient_descent_backtracking(x0, alpha=0.5, tol=1e-6, max_iters=1000):\n",
    "    x = np.array(x0, dtype=float)\n",
    "    iter = 0\n",
    "    for k in range(max_iters):\n",
    "        grad = gradient_f(x)\n",
    "        # NOTE: direction is negative hence + later\n",
    "        d =-grad\n",
    "        n = 0.01\n",
    "        alpha,new_x = backtracking(f,gradient_f,x,d,alpha,n)\n",
    "        x += alpha * d\n",
    "        iter += 1\n",
    "        norm_grad = np.linalg.norm(grad)\n",
    "        # NOTE : check if slope is almost flat\n",
    "        if norm_grad < tol:\n",
    "            break\n",
    "        \n",
    "    return x,iter"
   ]
  },
  {
   "cell_type": "markdown",
   "metadata": {},
   "source": [
    "### NEWTON METHOD"
   ]
  },
  {
   "cell_type": "code",
   "execution_count": 65,
   "metadata": {},
   "outputs": [],
   "source": [
    "def newton_method_backtracking(x0, alpha=0.5, tol=1e-6, max_iters=100):\n",
    "    x = np.array(x0, dtype=float)\n",
    "    for i in range(max_iters):\n",
    "        grad = gradient_f(x)\n",
    "        hessian = hessian_f(x)\n",
    "        # NOTE: direction is negative hence + later\n",
    "        d = -np.linalg.solve(hessian, grad)\n",
    "        alpha,new_x = backtracking(f,gradient_f,x,d,alpha,n=0.01)\n",
    "        x += alpha *d\n",
    "        norm_grad = np.linalg.norm(grad)\n",
    "        # NOTE : check if slope is almost flat\n",
    "        if norm_grad < tol:\n",
    "            return x, i\n",
    "        \n",
    "    return x, max_iters"
   ]
  },
  {
   "cell_type": "markdown",
   "metadata": {},
   "source": [
    "### RESULTS"
   ]
  },
  {
   "cell_type": "code",
   "execution_count": 66,
   "metadata": {},
   "outputs": [
    {
     "name": "stdout",
     "output_type": "stream",
     "text": [
      " gradient descent with alpha=0.1 : (array([0.57735041, 0.57735041]), 35)\n",
      " gradient descent with backtracking : (array([0.57735026, 0.57735026]), 9)\n",
      " Newton Method with backtracking : (array([0.57735036, 0.57735036]), 22)\n"
     ]
    }
   ],
   "source": [
    "x0 = np.array([1,1])\n",
    "g_desc = gradient_descent(x0)\n",
    "g_desc_backtracking = gradient_descent_backtracking(x0)\n",
    "newton_backtracking = newton_method_backtracking(x0)\n",
    "\n",
    "print(f' gradient descent with alpha=0.1 : {g_desc}')\n",
    "print(f' gradient descent with backtracking : {g_desc_backtracking}')\n",
    "print(f' Newton Method with backtracking : {newton_backtracking}')"
   ]
  },
  {
   "cell_type": "markdown",
   "metadata": {},
   "source": [
    "## PROBLEMS 3"
   ]
  },
  {
   "cell_type": "markdown",
   "metadata": {},
   "source": [
    "### ex1"
   ]
  },
  {
   "cell_type": "code",
   "execution_count": 67,
   "metadata": {},
   "outputs": [],
   "source": [
    "def forward_finite_difference(f,x,t):\n",
    "    return ((f(x+t) - f(x))/t)"
   ]
  },
  {
   "cell_type": "markdown",
   "metadata": {},
   "source": [
    "### ex2"
   ]
  },
  {
   "cell_type": "code",
   "execution_count": 68,
   "metadata": {},
   "outputs": [],
   "source": [
    "def f(x):\n",
    "    return np.sin(x)\n",
    "\n",
    "def compute_derivative(x):\n",
    "    return np.cos(x)"
   ]
  },
  {
   "cell_type": "markdown",
   "metadata": {},
   "source": [
    "### ex3"
   ]
  },
  {
   "cell_type": "code",
   "execution_count": 69,
   "metadata": {},
   "outputs": [
    {
     "data": {
      "image/png": "[encoded data removed]",
      "text/plain": [
       "<Figure size 800x600 with 1 Axes>"
      ]
     },
     "metadata": {},
     "output_type": "display_data"
    }
   ],
   "source": [
    "arr = [i for i in range(16, -1, -1)]\n",
    "arr.pop()\n",
    "\n",
    "err_arr = []\n",
    "\n",
    "for elem in arr :\n",
    "    approx = forward_finite_difference(f, 1, 10**(-elem))\n",
    "    err = abs(compute_derivative(1) - approx)\n",
    "    err_arr.append(err)\n",
    "\n",
    "error = np.array(err_arr) \n",
    "\n",
    "t_values = np.logspace(-16, -1, num=16)\n",
    "\n",
    "plt.figure(figsize=(8, 6))\n",
    "plt.loglog(t_values, err_arr, marker='o', linestyle='-', color='b')\n",
    "plt.grid(True)\n",
    "plt.show()"
   ]
  },
  {
   "cell_type": "markdown",
   "metadata": {},
   "source": [
    "### ex4"
   ]
  },
  {
   "cell_type": "code",
   "execution_count": 70,
   "metadata": {},
   "outputs": [],
   "source": [
    "def central_difference_formula(f,x,t):\n",
    "    return (f(x+t) - f(x-t)) / (2*t) "
   ]
  },
  {
   "cell_type": "markdown",
   "metadata": {},
   "source": [
    "### ex5"
   ]
  },
  {
   "cell_type": "code",
   "execution_count": 71,
   "metadata": {},
   "outputs": [
    {
     "data": {
      "image/png": "[encoded data removed]",
      "text/plain": [
       "<Figure size 800x600 with 1 Axes>"
      ]
     },
     "metadata": {},
     "output_type": "display_data"
    }
   ],
   "source": [
    "arr = [i for i in range(16, -1, -1)]\n",
    "arr.pop()\n",
    "\n",
    "err_arr_central = []\n",
    "\n",
    "for elem in arr:\n",
    "    approx = central_difference_formula(f,1,10**(-elem))\n",
    "    err = abs(compute_derivative(1) - approx)\n",
    "    err_arr_central.append(err)\n",
    "\n",
    "error = np.array(err_arr_central) \n",
    "t_values_central = np.logspace(-16, -1, num=16)\n",
    "\n",
    "plt.figure(figsize=(8, 6))\n",
    "plt.loglog(t_values, err_arr, marker='o', linestyle='-', color='g', label='Forward')  \n",
    "plt.loglog(t_values_central, err_arr_central, marker='o', linestyle='-', color='r', label='Central') \n",
    "plt.legend()\n",
    "plt.grid(True)\n",
    "plt.show()"
   ]
  },
  {
   "cell_type": "markdown",
   "metadata": {},
   "source": [
    "Even though the central difference formula is computationally more expensive it is clearly possible to see how the error is much smaller than the forward one, hence it is more precise. "
   ]
  }
 ],
 "metadata": {
  "kernelspec": {
   "display_name": "Python 3",
   "language": "python",
   "name": "python3"
  },
  "language_info": {
   "codemirror_mode": {
    "name": "ipython",
    "version": 3
   },
   "file_extension": ".py",
   "mimetype": "text/x-python",
   "name": "python",
   "nbconvert_exporter": "python",
   "pygments_lexer": "ipython3",
   "version": "3.10.12"
  }
 },
 "nbformat": 4,
 "nbformat_minor": 2
}
